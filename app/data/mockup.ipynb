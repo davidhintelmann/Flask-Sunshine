{
 "cells": [
  {
   "cell_type": "code",
   "execution_count": 178,
   "metadata": {},
   "outputs": [],
   "source": [
    "import pandas as pd\n",
    "import numpy as np"
   ]
  },
  {
   "cell_type": "code",
   "execution_count": 96,
   "metadata": {},
   "outputs": [],
   "source": [
    "df = pd.read_csv('old_2019.csv')"
   ]
  },
  {
   "cell_type": "code",
   "execution_count": 102,
   "metadata": {},
   "outputs": [],
   "source": [
    "df['Salary Paid'] = df['Salary Paid'].str[1:].str.split(',').str.join('').astype('float64')"
   ]
  },
  {
   "cell_type": "code",
   "execution_count": 105,
   "metadata": {},
   "outputs": [],
   "source": [
    "df['Taxable Benefits'] = df['Taxable Benefits'].str[1:].str.split(',').str.join('').astype('float64')"
   ]
  },
  {
   "cell_type": "code",
   "execution_count": 106,
   "metadata": {},
   "outputs": [
    {
     "name": "stdout",
     "output_type": "stream",
     "text": [
      "<class 'pandas.core.frame.DataFrame'>\n",
      "RangeIndex: 166977 entries, 0 to 166976\n",
      "Data columns (total 8 columns):\n",
      " #   Column            Non-Null Count   Dtype  \n",
      "---  ------            --------------   -----  \n",
      " 0   Sector            166977 non-null  object \n",
      " 1   Last Name         166977 non-null  object \n",
      " 2   First Name        166977 non-null  object \n",
      " 3   Salary Paid       166977 non-null  float64\n",
      " 4   Taxable Benefits  166977 non-null  float64\n",
      " 5   Employer          166977 non-null  object \n",
      " 6   Job Title         166977 non-null  object \n",
      " 7   Calendar Year     166977 non-null  int64  \n",
      "dtypes: float64(2), int64(1), object(5)\n",
      "memory usage: 10.2+ MB\n"
     ]
    }
   ],
   "source": [
    "df.info()"
   ]
  },
  {
   "cell_type": "code",
   "execution_count": 122,
   "metadata": {},
   "outputs": [
    {
     "data": {
      "text/plain": [
       "300"
      ]
     },
     "execution_count": 122,
     "metadata": {},
     "output_type": "execute_result"
    }
   ],
   "source": [
    "df['Job Title'].str.len().sort_values(ascending=False).unique()[0]"
   ]
  },
  {
   "cell_type": "code",
   "execution_count": 120,
   "metadata": {},
   "outputs": [
    {
     "data": {
      "text/plain": [
       "8"
      ]
     },
     "execution_count": 120,
     "metadata": {},
     "output_type": "execute_result"
    }
   ],
   "source": [
    "len(str(df['Taxable Benefits'].max()))"
   ]
  },
  {
   "cell_type": "code",
   "execution_count": 131,
   "metadata": {
    "scrolled": true
   },
   "outputs": [
    {
     "data": {
      "text/plain": [
       "36785     300\n",
       "34574     266\n",
       "36790     253\n",
       "45317     250\n",
       "36991     248\n",
       "         ... \n",
       "30334       4\n",
       "152053      4\n",
       "2295        4\n",
       "154490      4\n",
       "2140        4\n",
       "Name: Job Title, Length: 166977, dtype: int64"
      ]
     },
     "execution_count": 131,
     "metadata": {},
     "output_type": "execute_result"
    }
   ],
   "source": [
    "df['Job Title'].str.len().sort_values(ascending=False)"
   ]
  },
  {
   "cell_type": "code",
   "execution_count": 180,
   "metadata": {},
   "outputs": [],
   "source": [
    "df.to_csv('2019_second.csv', sep='|',index=False)"
   ]
  },
  {
   "cell_type": "code",
   "execution_count": 145,
   "metadata": {},
   "outputs": [
    {
     "data": {
      "text/html": [
       "<div>\n",
       "<style scoped>\n",
       "    .dataframe tbody tr th:only-of-type {\n",
       "        vertical-align: middle;\n",
       "    }\n",
       "\n",
       "    .dataframe tbody tr th {\n",
       "        vertical-align: top;\n",
       "    }\n",
       "\n",
       "    .dataframe thead th {\n",
       "        text-align: right;\n",
       "    }\n",
       "</style>\n",
       "<table border=\"1\" class=\"dataframe\">\n",
       "  <thead>\n",
       "    <tr style=\"text-align: right;\">\n",
       "      <th></th>\n",
       "      <th>0</th>\n",
       "      <th>1</th>\n",
       "      <th>2</th>\n",
       "      <th>3</th>\n",
       "      <th>4</th>\n",
       "      <th>5</th>\n",
       "      <th>6</th>\n",
       "      <th>7</th>\n",
       "    </tr>\n",
       "  </thead>\n",
       "  <tbody>\n",
       "    <tr>\n",
       "      <th>0</th>\n",
       "      <td>Colleges</td>\n",
       "      <td>Abbas</td>\n",
       "      <td>Sadiq</td>\n",
       "      <td>111442.39</td>\n",
       "      <td>68.16</td>\n",
       "      <td>Algonquin College Of Applied Arts and Technology</td>\n",
       "      <td>Professor</td>\n",
       "      <td>2019</td>\n",
       "    </tr>\n",
       "    <tr>\n",
       "      <th>1</th>\n",
       "      <td>Colleges</td>\n",
       "      <td>Abboud</td>\n",
       "      <td>Nadim</td>\n",
       "      <td>114484.25</td>\n",
       "      <td>114.44</td>\n",
       "      <td>Algonquin College Of Applied Arts and Technology</td>\n",
       "      <td>Professor</td>\n",
       "      <td>2019</td>\n",
       "    </tr>\n",
       "    <tr>\n",
       "      <th>2</th>\n",
       "      <td>Colleges</td>\n",
       "      <td>Agate</td>\n",
       "      <td>Jeffery</td>\n",
       "      <td>135651.25</td>\n",
       "      <td>256.22</td>\n",
       "      <td>Algonquin College Of Applied Arts and Technology</td>\n",
       "      <td>Associate Director Student Support Services</td>\n",
       "      <td>2019</td>\n",
       "    </tr>\n",
       "    <tr>\n",
       "      <th>3</th>\n",
       "      <td>Colleges</td>\n",
       "      <td>Alexander</td>\n",
       "      <td>Doug</td>\n",
       "      <td>111442.97</td>\n",
       "      <td>114.44</td>\n",
       "      <td>Algonquin College Of Applied Arts and Technology</td>\n",
       "      <td>Professor</td>\n",
       "      <td>2019</td>\n",
       "    </tr>\n",
       "    <tr>\n",
       "      <th>4</th>\n",
       "      <td>Colleges</td>\n",
       "      <td>Alexander</td>\n",
       "      <td>Tamra</td>\n",
       "      <td>107906.18</td>\n",
       "      <td>68.16</td>\n",
       "      <td>Algonquin College Of Applied Arts and Technology</td>\n",
       "      <td>Professor</td>\n",
       "      <td>2019</td>\n",
       "    </tr>\n",
       "    <tr>\n",
       "      <th>...</th>\n",
       "      <td>...</td>\n",
       "      <td>...</td>\n",
       "      <td>...</td>\n",
       "      <td>...</td>\n",
       "      <td>...</td>\n",
       "      <td>...</td>\n",
       "      <td>...</td>\n",
       "      <td>...</td>\n",
       "    </tr>\n",
       "    <tr>\n",
       "      <th>166972</th>\n",
       "      <td>Universities</td>\n",
       "      <td>Zoidl</td>\n",
       "      <td>Georg R</td>\n",
       "      <td>226479.06</td>\n",
       "      <td>1104.16</td>\n",
       "      <td>York University</td>\n",
       "      <td>Professor</td>\n",
       "      <td>2019</td>\n",
       "    </tr>\n",
       "    <tr>\n",
       "      <th>166973</th>\n",
       "      <td>Universities</td>\n",
       "      <td>Zryd</td>\n",
       "      <td>Michael</td>\n",
       "      <td>171004.60</td>\n",
       "      <td>910.84</td>\n",
       "      <td>York University</td>\n",
       "      <td>Associate Professor</td>\n",
       "      <td>2019</td>\n",
       "    </tr>\n",
       "    <tr>\n",
       "      <th>166974</th>\n",
       "      <td>Universities</td>\n",
       "      <td>Zumbansen</td>\n",
       "      <td>Peer C</td>\n",
       "      <td>193639.44</td>\n",
       "      <td>1104.16</td>\n",
       "      <td>York University</td>\n",
       "      <td>Professor</td>\n",
       "      <td>2019</td>\n",
       "    </tr>\n",
       "    <tr>\n",
       "      <th>166975</th>\n",
       "      <td>Universities</td>\n",
       "      <td>Zwick</td>\n",
       "      <td>Detlev</td>\n",
       "      <td>256491.58</td>\n",
       "      <td>1104.16</td>\n",
       "      <td>York University</td>\n",
       "      <td>Associate Dean / Associate Professor</td>\n",
       "      <td>2019</td>\n",
       "    </tr>\n",
       "    <tr>\n",
       "      <th>166976</th>\n",
       "      <td>Universities</td>\n",
       "      <td>Zylberberg</td>\n",
       "      <td>Joel</td>\n",
       "      <td>146093.40</td>\n",
       "      <td>701.64</td>\n",
       "      <td>York University</td>\n",
       "      <td>Assistant Professor / Canada Research Chair</td>\n",
       "      <td>2019</td>\n",
       "    </tr>\n",
       "  </tbody>\n",
       "</table>\n",
       "<p>166977 rows × 8 columns</p>\n",
       "</div>"
      ],
      "text/plain": [
       "                   0           1        2          3        4  \\\n",
       "0           Colleges       Abbas    Sadiq  111442.39    68.16   \n",
       "1           Colleges      Abboud    Nadim  114484.25   114.44   \n",
       "2           Colleges       Agate  Jeffery  135651.25   256.22   \n",
       "3           Colleges   Alexander     Doug  111442.97   114.44   \n",
       "4           Colleges   Alexander    Tamra  107906.18    68.16   \n",
       "...              ...         ...      ...        ...      ...   \n",
       "166972  Universities       Zoidl  Georg R  226479.06  1104.16   \n",
       "166973  Universities        Zryd  Michael  171004.60   910.84   \n",
       "166974  Universities   Zumbansen   Peer C  193639.44  1104.16   \n",
       "166975  Universities       Zwick   Detlev  256491.58  1104.16   \n",
       "166976  Universities  Zylberberg     Joel  146093.40   701.64   \n",
       "\n",
       "                                                       5  \\\n",
       "0       Algonquin College Of Applied Arts and Technology   \n",
       "1       Algonquin College Of Applied Arts and Technology   \n",
       "2       Algonquin College Of Applied Arts and Technology   \n",
       "3       Algonquin College Of Applied Arts and Technology   \n",
       "4       Algonquin College Of Applied Arts and Technology   \n",
       "...                                                  ...   \n",
       "166972                                   York University   \n",
       "166973                                   York University   \n",
       "166974                                   York University   \n",
       "166975                                   York University   \n",
       "166976                                   York University   \n",
       "\n",
       "                                                  6     7  \n",
       "0                                         Professor  2019  \n",
       "1                                         Professor  2019  \n",
       "2       Associate Director Student Support Services  2019  \n",
       "3                                         Professor  2019  \n",
       "4                                         Professor  2019  \n",
       "...                                             ...   ...  \n",
       "166972                                    Professor  2019  \n",
       "166973                          Associate Professor  2019  \n",
       "166974                                    Professor  2019  \n",
       "166975         Associate Dean / Associate Professor  2019  \n",
       "166976  Assistant Professor / Canada Research Chair  2019  \n",
       "\n",
       "[166977 rows x 8 columns]"
      ]
     },
     "execution_count": 145,
     "metadata": {},
     "output_type": "execute_result"
    }
   ],
   "source": [
    "pd.read_csv('2019.csv', header=None)"
   ]
  },
  {
   "cell_type": "code",
   "execution_count": 169,
   "metadata": {},
   "outputs": [
    {
     "data": {
      "text/plain": [
       "Sector                       Hospitals & Boards of Public Health\n",
       "Last Name                                                  Apkon\n",
       "First Name                                               Michael\n",
       "Salary Paid                                               176829\n",
       "Taxable Benefits                                          333918\n",
       "Employer                          The Hospital For Sick Children\n",
       "Job Title           Former President and Chief Executive Officer\n",
       "Calendar Year                                               2019\n",
       "Name: 47395, dtype: object"
      ]
     },
     "execution_count": 169,
     "metadata": {},
     "output_type": "execute_result"
    }
   ],
   "source": [
    "df.loc[47395]"
   ]
  },
  {
   "cell_type": "code",
   "execution_count": 172,
   "metadata": {},
   "outputs": [
    {
     "data": {
      "text/plain": [
       "8"
      ]
     },
     "execution_count": 172,
     "metadata": {},
     "output_type": "execute_result"
    }
   ],
   "source": [
    "len(str(df['Taxable Benefits'].max()))"
   ]
  },
  {
   "cell_type": "code",
   "execution_count": 176,
   "metadata": {},
   "outputs": [
    {
     "data": {
      "text/html": [
       "<div>\n",
       "<style scoped>\n",
       "    .dataframe tbody tr th:only-of-type {\n",
       "        vertical-align: middle;\n",
       "    }\n",
       "\n",
       "    .dataframe tbody tr th {\n",
       "        vertical-align: top;\n",
       "    }\n",
       "\n",
       "    .dataframe thead th {\n",
       "        text-align: right;\n",
       "    }\n",
       "</style>\n",
       "<table border=\"1\" class=\"dataframe\">\n",
       "  <thead>\n",
       "    <tr style=\"text-align: right;\">\n",
       "      <th></th>\n",
       "      <th>Sector</th>\n",
       "      <th>Last Name</th>\n",
       "      <th>First Name</th>\n",
       "      <th>Salary Paid</th>\n",
       "      <th>Taxable Benefits</th>\n",
       "      <th>Employer</th>\n",
       "      <th>Job Title</th>\n",
       "      <th>Calendar Year</th>\n",
       "    </tr>\n",
       "  </thead>\n",
       "  <tbody>\n",
       "    <tr>\n",
       "      <th>47395</th>\n",
       "      <td>Hospitals &amp; Boards of Public Health</td>\n",
       "      <td>Apkon</td>\n",
       "      <td>Michael</td>\n",
       "      <td>176829.33</td>\n",
       "      <td>333918.4</td>\n",
       "      <td>The Hospital For Sick Children</td>\n",
       "      <td>Former President and Chief Executive Officer</td>\n",
       "      <td>2019</td>\n",
       "    </tr>\n",
       "  </tbody>\n",
       "</table>\n",
       "</div>"
      ],
      "text/plain": [
       "                                    Sector Last Name First Name  Salary Paid  \\\n",
       "47395  Hospitals & Boards of Public Health     Apkon    Michael    176829.33   \n",
       "\n",
       "       Taxable Benefits                        Employer  \\\n",
       "47395          333918.4  The Hospital For Sick Children   \n",
       "\n",
       "                                          Job Title  Calendar Year  \n",
       "47395  Former President and Chief Executive Officer           2019  "
      ]
     },
     "execution_count": 176,
     "metadata": {},
     "output_type": "execute_result"
    }
   ],
   "source": [
    "df[df['Taxable Benefits'] == 333918.4]"
   ]
  },
  {
   "cell_type": "code",
   "execution_count": 177,
   "metadata": {},
   "outputs": [
    {
     "name": "stdout",
     "output_type": "stream",
     "text": [
      "<class 'pandas.core.frame.DataFrame'>\n",
      "RangeIndex: 166977 entries, 0 to 166976\n",
      "Data columns (total 8 columns):\n",
      " #   Column            Non-Null Count   Dtype  \n",
      "---  ------            --------------   -----  \n",
      " 0   Sector            166977 non-null  object \n",
      " 1   Last Name         166977 non-null  object \n",
      " 2   First Name        166977 non-null  object \n",
      " 3   Salary Paid       166977 non-null  float64\n",
      " 4   Taxable Benefits  166977 non-null  float64\n",
      " 5   Employer          166977 non-null  object \n",
      " 6   Job Title         166977 non-null  object \n",
      " 7   Calendar Year     166977 non-null  int64  \n",
      "dtypes: float64(2), int64(1), object(5)\n",
      "memory usage: 10.2+ MB\n"
     ]
    }
   ],
   "source": [
    "df.info()"
   ]
  },
  {
   "cell_type": "code",
   "execution_count": null,
   "metadata": {},
   "outputs": [],
   "source": []
  }
 ],
 "metadata": {
  "kernelspec": {
   "display_name": "Python [conda env:py385] *",
   "language": "python",
   "name": "conda-env-py385-py"
  },
  "language_info": {
   "codemirror_mode": {
    "name": "ipython",
    "version": 3
   },
   "file_extension": ".py",
   "mimetype": "text/x-python",
   "name": "python",
   "nbconvert_exporter": "python",
   "pygments_lexer": "ipython3",
   "version": "3.8.5"
  }
 },
 "nbformat": 4,
 "nbformat_minor": 4
}
